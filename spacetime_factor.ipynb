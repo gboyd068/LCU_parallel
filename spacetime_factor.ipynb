{
 "cells": [
  {
   "cell_type": "code",
   "execution_count": 17,
   "metadata": {},
   "outputs": [],
   "source": [
    "import qsharp\n",
    "import numpy as np\n",
    "import matplotlib.pyplot as plt"
   ]
  },
  {
   "cell_type": "code",
   "execution_count": 18,
   "metadata": {
    "vscode": {
     "languageId": "qsharp"
    }
   },
   "outputs": [],
   "source": [
    "%%qsharp\n",
    "\n",
    "open Microsoft.Quantum.Convert;\n",
    "open Microsoft.Quantum.Math;\n",
    "open Microsoft.Quantum.Measurement;\n",
    "open Microsoft.Quantum.Arrays;\n",
    "open Microsoft.Quantum.Diagnostics;\n",
    "\n",
    "function SplitRegister(qs: Qubit[], k: Int) : Qubit[][] {\n",
    "    let n = Length(qs);\n",
    "    let size = n / k;    \n",
    "    mutable result: Qubit[][] = [];\n",
    "    for i in 0 .. k-1 {\n",
    "        set result += [qs[i*size .. (i+1)*size-1]];\n",
    "    }\n",
    "    return result;\n",
    "}\n",
    "\n",
    "operation testResource(n: Int): Unit {\n",
    "    let nTerms = 1;\n",
    "    use qs = Qubit[n];\n",
    "    use ancillas = Qubit[nTerms * Ceiling(Lg(IntAsDouble(n)))];\n",
    "    let prepRegisters = SplitRegister(ancillas, nTerms);\n",
    "    for i in 0 .. nTerms - 1 {\n",
    "        ApplyControlledOnInt(i, ApplyP(PauliZ, _), prepRegisters[i], qs[i]);\n",
    "    }\n",
    "}"
   ]
  },
  {
   "cell_type": "code",
   "execution_count": 32,
   "metadata": {},
   "outputs": [],
   "source": [
    "def scale_up_results(results, n):\n",
    "    \"\"\"extrapolates costs of LCU using a single ancilla register to a larger degree of parallelisation\"\"\"\n",
    "    phys_per_logical = results[\"logicalQubit\"][\"physicalQubits\"]\n",
    "    lalg_qubits = results[\"logicalCounts\"][\"numQubits\"]\n",
    "    lprepreg_size = lalg_qubits - n\n",
    "    # mutliply T factories by the change in T count between using basic toffoli gates and the unary iteration scheme\n",
    "    pcount_tfactories = results[\"physicalCounts\"][\"breakdown\"][\"physicalQubitsForTfactories\"] * (4 / (7*np.log(n))) # possibly can divide by 2 due to new factory designs\n",
    "    runtime_parallel = results[\"physicalCounts\"][\"runtime\"]\n",
    "\n",
    "    # scale up the number of prep registers\n",
    "    lprepreg_qubits = n * lprepreg_size # can add an extra factor potentially need by the multiocontrolled-AND gates when using ancilla iteration scheme\n",
    "    pcount_tfactories_parallel = pcount_tfactories * n # * (12/4) # factor need to increase T count for ancilla iteration scheme\n",
    "    qubit_total_parallel = (4*n + lprepreg_qubits) * phys_per_logical + pcount_tfactories_parallel\n",
    "    qubit_total_series = lalg_qubits * phys_per_logical + pcount_tfactories\n",
    "    runtime_series = runtime_parallel * n\n",
    "    scaled_results = {\n",
    "        \"pqubit_parallel\": qubit_total_parallel,\n",
    "        \"pqubit_series\": qubit_total_series,\n",
    "        \"runtime_parallel\": runtime_parallel, \n",
    "        \"runtime_series\": runtime_series,\n",
    "        \"time_factor\": runtime_parallel / runtime_series,\n",
    "        \"space_factor\": qubit_total_parallel / qubit_total_series,\n",
    "        \"spacetime_factor\": (qubit_total_parallel / qubit_total_series) * (runtime_parallel / runtime_series)\n",
    "    }\n",
    "    return scaled_results\n",
    "\n",
    "def resource_estimate_LCU(n):\n",
    "    results = qsharp.estimate(f\"testResource({n})\")\n",
    "    return scale_up_results(results, n)"
   ]
  },
  {
   "cell_type": "code",
   "execution_count": 33,
   "metadata": {},
   "outputs": [],
   "source": [
    "ns = np.logspace(1,4, num=8, dtype=int)\n",
    "st_factors = []\n",
    "for n in ns:\n",
    "    data = resource_estimate_LCU(n)\n",
    "    st_factors.append(data[\"spacetime_factor\"])"
   ]
  },
  {
   "cell_type": "code",
   "execution_count": 34,
   "metadata": {},
   "outputs": [
    {
     "data": {
      "text/plain": [
       "Text(0, 0.5, 'Space-time factor')"
      ]
     },
     "execution_count": 34,
     "metadata": {},
     "output_type": "execute_result"
    },
    {
     "data": {
      "image/png": "[encoded data removed]",
      "text/plain": [
       "<Figure size 640x480 with 1 Axes>"
      ]
     },
     "metadata": {},
     "output_type": "display_data"
    }
   ],
   "source": [
    "# plot assuming you can fit in n terms every transform\n",
    "# actual performance will be scaled down by the average number of terms that can be fit in\n",
    "# makes sense to use a normalised [avg number of terms] / n\n",
    "plt.loglog(ns, st_factors)\n",
    "plt.xlabel(\"n\")\n",
    "plt.ylabel(\"Space-time factor\")\n",
    "# plt.savefig(\"spacetime_factor.pdf\", format=\"pdf\")"
   ]
  },
  {
   "cell_type": "code",
   "execution_count": 35,
   "metadata": {},
   "outputs": [
    {
     "name": "stdout",
     "output_type": "stream",
     "text": [
      "[   10    26    71   193   517  1389  3727 10000] [0.9318651902179469, 0.7273290214197801, 0.46856813497444616, 0.2186515662933821, 0.07155002603455807, 0.02748266880090254, 0.009051111272604162, 0.0037024520241478445]\n"
     ]
    }
   ],
   "source": [
    "print(ns, st_factors)"
   ]
  }
 ],
 "metadata": {
  "kernelspec": {
   "display_name": "qsharp-env",
   "language": "python",
   "name": "python3"
  },
  "language_info": {
   "codemirror_mode": {
    "name": "ipython",
    "version": 3
   },
   "file_extension": ".py",
   "mimetype": "text/x-python",
   "name": "python",
   "nbconvert_exporter": "python",
   "pygments_lexer": "ipython3",
   "version": "3.10.13"
  }
 },
 "nbformat": 4,
 "nbformat_minor": 2
}
