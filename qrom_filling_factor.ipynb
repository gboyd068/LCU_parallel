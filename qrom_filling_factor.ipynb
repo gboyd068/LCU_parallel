{
 "cells": [
  {
   "cell_type": "code",
   "execution_count": 2,
   "metadata": {},
   "outputs": [
    {
     "name": "stdout",
     "output_type": "stream",
     "text": [
      "LOADING\n",
      "Scalene extension successfully loaded. Note: Scalene currently only\n",
      "supports CPU+GPU profiling inside Jupyter notebooks. For full Scalene\n",
      "profiling, use the command line version.\n"
     ]
    }
   ],
   "source": [
    "import numpy as np\n",
    "import matplotlib.pyplot as plt\n",
    "import openfermion as of\n",
    "from openfermionpyscf import run_pyscf\n",
    "import stim\n",
    "from src.preprocessing.calc_clifford_transforms import clifford_transform_multiple_groups_to_zs\n",
    "from src.preprocessing.commuting_groups import commuting_groups\n",
    "from src.utils import qubitop_to_stim_pauli_strings\n",
    "\n",
    "%load_ext scalene"
   ]
  },
  {
   "cell_type": "code",
   "execution_count": 5,
   "metadata": {},
   "outputs": [
    {
     "name": "stdout",
     "output_type": "stream",
     "text": [
      "[[0, 1, 2, 4, 8], [3, 5, 7, 9, 16], [6, 10, 11, 14, 17], [12, 13, 15, 18, 20], [19, 21, 22, 23, 24], [25, 26, 27, 28], [29, 30, 31]]\n",
      "[[0, 1, 2, 4, 8, 16], [3, 5, 7, 9, 17, 32], [6, 10, 11, 14, 18, 33], [12, 13, 15, 19, 20, 34], [21, 22, 23, 24, 28, 35], [25, 26, 27, 29, 36, 40], [30, 31, 37, 38, 41, 44], [39, 42, 43, 45, 46, 48], [47, 49, 50, 51, 52, 56], [53, 54, 55, 57, 60], [58, 59, 61, 62], [63]]\n",
      "[[0, 1, 2, 4, 8, 16, 32], [3, 5, 7, 9, 17, 33, 64], [6, 10, 11, 14, 18, 34, 65], [12, 13, 15, 19, 20, 35, 66], [21, 22, 23, 24, 28, 36, 67], [25, 26, 27, 29, 37, 40, 68], [30, 31, 38, 41, 42, 44, 69], [39, 43, 45, 46, 47, 48, 70], [49, 50, 51, 52, 56, 71, 80], [53, 54, 55, 57, 60, 72, 81], [58, 59, 61, 62, 73, 82, 88], [63, 74, 75, 76, 78, 83, 89], [77, 79, 84, 85, 90, 92, 96], [86, 87, 91, 93, 94, 97, 112], [95, 98, 99, 100, 102, 104, 113], [101, 103, 105, 106, 108, 114], [107, 109, 110, 111, 115, 120], [116, 117, 118, 121, 124], [119, 122, 123, 125, 126], [127]]\n",
      "[[0, 1, 2, 4, 8, 16, 32, 64], [3, 5, 7, 9, 17, 33, 65, 128], [6, 10, 11, 14, 18, 34, 66, 129], [12, 13, 15, 19, 20, 35, 67, 130], [21, 22, 23, 24, 28, 36, 68, 131], [25, 26, 27, 29, 37, 40, 69, 132], [30, 31, 38, 41, 42, 44, 70, 133], [39, 43, 45, 46, 47, 48, 71, 134], [49, 50, 51, 52, 56, 72, 80, 135], [53, 54, 55, 57, 60, 73, 81, 136], [58, 59, 61, 62, 74, 82, 88, 137], [63, 75, 76, 77, 78, 83, 89, 138], [79, 84, 85, 86, 90, 92, 96, 139], [87, 91, 93, 94, 95, 97, 112, 140], [98, 99, 100, 102, 104, 113, 141, 160], [101, 103, 105, 106, 108, 114, 142, 161], [107, 109, 110, 111, 115, 120, 143, 162], [116, 117, 118, 121, 124, 144, 163, 176], [119, 122, 123, 125, 126, 145, 164, 177], [127, 146, 147, 148, 150, 152, 165, 178], [149, 151, 153, 154, 156, 166, 179, 192], [155, 157, 158, 159, 167, 168, 180, 193], [169, 170, 171, 172, 181, 184, 194, 224], [173, 174, 175, 182, 185, 188, 195, 225], [183, 186, 187, 189, 190, 196, 208, 226], [191, 197, 198, 199, 200, 204, 209, 227], [201, 202, 203, 205, 210, 216, 228], [206, 207, 211, 212, 214, 217, 229], [213, 215, 218, 219, 220, 230, 240], [221, 222, 223, 231, 232, 236, 241], [233, 234, 235, 237, 242, 248], [238, 239, 243, 244, 246, 249], [245, 247, 250, 251, 252], [253, 254, 255]]\n",
      "[[0, 1, 2, 4, 8, 16, 32, 64, 128], [3, 5, 7, 9, 17, 33, 65, 129, 256], [6, 10, 11, 14, 18, 34, 66, 130, 257], [12, 13, 15, 19, 20, 35, 67, 131, 258], [21, 22, 23, 24, 28, 36, 68, 132, 259], [25, 26, 27, 29, 37, 40, 69, 133, 260], [30, 31, 38, 41, 42, 44, 70, 134, 261], [39, 43, 45, 46, 47, 48, 71, 135, 262], [49, 50, 51, 52, 56, 72, 80, 136, 263], [53, 54, 55, 57, 60, 73, 81, 137, 264], [58, 59, 61, 62, 74, 82, 88, 138, 265], [63, 75, 76, 77, 78, 83, 89, 139, 266], [79, 84, 85, 86, 90, 92, 96, 140, 267], [87, 91, 93, 94, 95, 97, 112, 141, 268], [98, 99, 100, 102, 104, 113, 142, 160, 269], [101, 103, 105, 106, 108, 114, 143, 161, 270], [107, 109, 110, 111, 115, 120, 144, 162, 271], [116, 117, 118, 121, 124, 145, 163, 176, 272], [119, 122, 123, 125, 126, 146, 164, 177, 273], [127, 147, 148, 149, 150, 152, 165, 178, 274], [151, 153, 154, 155, 156, 166, 179, 192, 275], [157, 158, 159, 167, 168, 172, 180, 193, 276], [169, 170, 171, 173, 181, 184, 194, 224, 277], [174, 175, 182, 185, 186, 188, 195, 225, 278], [183, 187, 189, 190, 191, 196, 208, 226, 279], [197, 198, 199, 200, 204, 209, 227, 280, 320], [201, 202, 203, 205, 210, 216, 228, 281, 321], [206, 207, 211, 212, 214, 217, 229, 282, 322], [213, 215, 218, 219, 220, 230, 240, 283, 323], [221, 222, 223, 231, 232, 236, 241, 284, 324], [233, 234, 235, 237, 242, 248, 285, 288, 325], [238, 239, 243, 244, 246, 249, 286, 289, 326], [245, 247, 250, 251, 252, 287, 290, 304, 327], [253, 254, 255, 291, 292, 296, 305, 328, 352], [293, 294, 295, 297, 300, 306, 329, 353, 384], [298, 299, 301, 302, 307, 312, 330, 354, 385], [303, 308, 309, 310, 313, 316, 331, 355, 386], [311, 314, 315, 317, 318, 332, 336, 356, 387], [319, 333, 334, 335, 337, 340, 344, 357, 388], [338, 339, 341, 342, 345, 358, 368, 389, 448], [343, 346, 347, 348, 350, 359, 369, 390, 449], [349, 351, 360, 361, 364, 370, 376, 391, 450], [362, 363, 365, 366, 371, 377, 392, 416, 451], [367, 372, 373, 374, 378, 380, 393, 417, 452], [375, 379, 381, 382, 383, 394, 400, 418, 453], [395, 396, 397, 398, 401, 408, 419, 454], [399, 402, 403, 404, 406, 409, 420, 455], [405, 407, 410, 411, 412, 421, 432, 456], [413, 414, 415, 422, 424, 428, 433, 457], [423, 425, 426, 427, 429, 434, 458, 480], [430, 431, 435, 436, 438, 440, 459, 481], [437, 439, 441, 442, 444, 460, 464, 482], [443, 445, 446, 447, 461, 465, 472, 483], [462, 463, 466, 468, 470, 473, 484], [467, 469, 471, 474, 475, 485, 496], [476, 477, 478, 486, 488, 492, 497], [479, 487, 489, 490, 491, 493, 498], [494, 495, 499, 500, 502, 504], [501, 503, 505, 506, 508], [507, 509, 510, 511]]\n",
      "[[0, 1, 2, 4, 8, 16, 32, 64, 128, 256], [3, 5, 7, 9, 17, 33, 65, 129, 257, 512], [6, 10, 11, 14, 18, 34, 66, 130, 258, 513], [12, 13, 15, 19, 20, 35, 67, 131, 259, 514], [21, 22, 23, 24, 28, 36, 68, 132, 260, 515], [25, 26, 27, 29, 37, 40, 69, 133, 261, 516], [30, 31, 38, 41, 42, 44, 70, 134, 262, 517], [39, 43, 45, 46, 47, 48, 71, 135, 263, 518], [49, 50, 51, 52, 56, 72, 80, 136, 264, 519], [53, 54, 55, 57, 60, 73, 81, 137, 265, 520], [58, 59, 61, 62, 74, 82, 88, 138, 266, 521], [63, 75, 76, 77, 78, 83, 89, 139, 267, 522], [79, 84, 85, 86, 90, 92, 96, 140, 268, 523], [87, 91, 93, 94, 95, 97, 112, 141, 269, 524], [98, 99, 100, 102, 104, 113, 142, 160, 270, 525], [101, 103, 105, 106, 108, 114, 143, 161, 271, 526], [107, 109, 110, 111, 115, 120, 144, 162, 272, 527], [116, 117, 118, 121, 124, 145, 163, 176, 273, 528], [119, 122, 123, 125, 126, 146, 164, 177, 274, 529], [127, 147, 148, 149, 150, 152, 165, 178, 275, 530], [151, 153, 154, 155, 156, 166, 179, 192, 276, 531], [157, 158, 159, 167, 168, 172, 180, 193, 277, 532], [169, 170, 171, 173, 181, 184, 194, 224, 278, 533], [174, 175, 182, 185, 186, 188, 195, 225, 279, 534], [183, 187, 189, 190, 191, 196, 208, 226, 280, 535], [197, 198, 199, 200, 204, 209, 227, 281, 320, 536], [201, 202, 203, 205, 210, 216, 228, 282, 321, 537], [206, 207, 211, 212, 214, 217, 229, 283, 322, 538], [213, 215, 218, 219, 220, 230, 240, 284, 323, 539], [221, 222, 223, 231, 232, 236, 241, 285, 324, 540], [233, 234, 235, 237, 242, 248, 286, 288, 325, 541], [238, 239, 243, 244, 246, 249, 287, 289, 326, 542], [245, 247, 250, 251, 252, 290, 304, 327, 352, 543], [253, 254, 255, 291, 292, 296, 305, 328, 353, 544], [293, 294, 295, 297, 300, 306, 329, 354, 384, 545], [298, 299, 301, 302, 307, 312, 330, 355, 385, 546], [303, 308, 309, 310, 313, 316, 331, 356, 386, 547], [311, 314, 315, 317, 318, 332, 336, 357, 387, 548], [319, 333, 334, 335, 337, 340, 344, 358, 388, 549], [338, 339, 341, 342, 345, 359, 368, 389, 448, 550], [343, 346, 347, 348, 350, 360, 369, 390, 449, 551], [349, 351, 361, 362, 364, 370, 376, 391, 450, 552], [363, 365, 366, 367, 371, 377, 392, 416, 451, 553], [372, 373, 374, 378, 380, 393, 400, 417, 452, 554], [375, 379, 381, 382, 383, 394, 401, 418, 453, 555], [395, 396, 397, 398, 402, 408, 419, 454, 556, 640], [399, 403, 404, 405, 406, 409, 420, 455, 557, 641], [407, 410, 411, 412, 414, 421, 432, 456, 558, 642], [413, 415, 422, 423, 424, 428, 433, 457, 559, 643], [425, 426, 427, 429, 434, 440, 458, 480, 560, 644], [430, 431, 435, 436, 438, 441, 459, 481, 561, 645], [437, 439, 442, 443, 444, 460, 464, 482, 562, 646], [445, 446, 447, 461, 465, 468, 472, 483, 563, 647], [462, 463, 466, 469, 470, 473, 484, 564, 576, 648], [467, 471, 474, 475, 476, 485, 496, 565, 577, 649], [477, 478, 479, 486, 488, 492, 497, 566, 578, 650], [487, 489, 490, 491, 493, 498, 567, 579, 608, 651], [494, 495, 499, 500, 502, 504, 568, 580, 609, 652], [501, 503, 505, 506, 508, 569, 581, 592, 610, 653], [507, 509, 510, 511, 570, 582, 584, 593, 611, 654], [571, 572, 573, 574, 583, 585, 594, 612, 655, 768], [575, 586, 587, 588, 590, 595, 600, 613, 656, 769], [589, 591, 596, 597, 601, 604, 614, 657, 704, 770], [598, 599, 602, 605, 606, 615, 624, 658, 705, 771], [603, 607, 616, 617, 618, 625, 632, 659, 706, 772], [619, 620, 621, 622, 626, 633, 660, 672, 707, 773], [623, 627, 628, 629, 630, 634, 661, 673, 708, 774], [631, 635, 636, 637, 638, 662, 674, 688, 709, 775], [639, 663, 664, 665, 666, 668, 675, 689, 710, 776], [667, 669, 670, 671, 676, 680, 690, 711, 777, 896], [677, 678, 679, 681, 684, 691, 712, 736, 778, 897], [682, 683, 685, 686, 692, 696, 713, 737, 779, 898], [687, 693, 694, 695, 697, 700, 714, 738, 780, 899], [698, 699, 701, 702, 715, 720, 728, 739, 781, 900], [703, 716, 717, 718, 721, 724, 729, 740, 782, 901], [719, 722, 723, 725, 726, 730, 741, 783, 832, 902], [727, 731, 732, 733, 734, 742, 752, 784, 833, 903], [735, 743, 744, 745, 746, 748, 753, 785, 834, 904], [747, 749, 750, 751, 754, 760, 786, 800, 835, 905], [755, 756, 757, 758, 761, 787, 801, 816, 836, 906], [759, 762, 763, 764, 766, 788, 802, 817, 837, 907], [765, 767, 789, 790, 792, 796, 803, 818, 838, 908], [791, 793, 794, 795, 797, 804, 819, 839, 909], [798, 799, 805, 806, 808, 812, 820, 840, 910], [807, 809, 810, 811, 813, 821, 841, 864, 911], [814, 815, 822, 824, 826, 828, 842, 865, 912], [823, 825, 827, 829, 830, 843, 848, 866, 913], [831, 844, 845, 846, 849, 852, 856, 867, 914], [847, 850, 851, 853, 854, 857, 868, 915, 960], [855, 858, 859, 860, 862, 869, 880, 916, 961], [861, 863, 870, 871, 872, 876, 881, 917, 962], [873, 874, 875, 877, 882, 888, 918, 928, 963], [878, 879, 883, 884, 886, 889, 919, 929, 964], [885, 887, 890, 891, 892, 920, 930, 944, 965], [893, 894, 895, 921, 924, 931, 936, 945, 966], [922, 923, 925, 926, 932, 937, 946, 967], [927, 933, 934, 935, 938, 940, 947, 968], [939, 941, 942, 943, 948, 952, 969, 992], [949, 950, 951, 953, 956, 970, 976, 993], [954, 955, 957, 958, 971, 977, 984, 994], [959, 972, 973, 974, 978, 980, 985, 995], [975, 979, 981, 982, 983, 986, 996], [987, 988, 989, 990, 997, 1000, 1008], [991, 998, 999, 1001, 1002, 1004, 1009], [1003, 1005, 1006, 1007, 1010, 1016], [1011, 1012, 1013, 1014, 1017], [1015, 1018, 1019, 1020, 1022], [1021, 1023]]\n"
     ]
    },
    {
     "ename": "KeyboardInterrupt",
     "evalue": "",
     "output_type": "error",
     "traceback": [
      "\u001b[0;31m---------------------------------------------------------------------------\u001b[0m",
      "\u001b[0;31mValueError\u001b[0m                                Traceback (most recent call last)",
      "File \u001b[0;32m~/quantum/LCU_parallel/src/preprocessing/calc_clifford_transforms.py:72\u001b[0m, in \u001b[0;36mcheck_pauli_linear_independence\u001b[0;34m(pauli_list)\u001b[0m\n\u001b[1;32m     71\u001b[0m \u001b[38;5;28;01mtry\u001b[39;00m:\n\u001b[0;32m---> 72\u001b[0m     \u001b[43mstim\u001b[49m\u001b[38;5;241;43m.\u001b[39;49m\u001b[43mTableau\u001b[49m\u001b[38;5;241;43m.\u001b[39;49m\u001b[43mfrom_stabilizers\u001b[49m\u001b[43m(\u001b[49m\n\u001b[1;32m     73\u001b[0m \u001b[43m        \u001b[49m\u001b[43mpauli_list\u001b[49m\u001b[43m,\u001b[49m\u001b[43m \u001b[49m\u001b[43mallow_underconstrained\u001b[49m\u001b[38;5;241;43m=\u001b[39;49m\u001b[38;5;28;43;01mTrue\u001b[39;49;00m\u001b[43m,\u001b[49m\u001b[43m \u001b[49m\u001b[43mallow_redundant\u001b[49m\u001b[38;5;241;43m=\u001b[39;49m\u001b[38;5;28;43;01mFalse\u001b[39;49;00m\n\u001b[1;32m     74\u001b[0m \u001b[43m    \u001b[49m\u001b[43m)\u001b[49m\n\u001b[1;32m     75\u001b[0m     \u001b[38;5;28;01mreturn\u001b[39;00m \u001b[38;5;28;01mTrue\u001b[39;00m\n",
      "\u001b[0;31mValueError\u001b[0m: Didn't specify allow_redundant=True but one of the given stabilizers is a product of the others. To allow redundant stabilizers, pass the argument allow_redundant=True.",
      "\nDuring handling of the above exception, another exception occurred:\n",
      "\u001b[0;31mKeyboardInterrupt\u001b[0m                         Traceback (most recent call last)",
      "Cell \u001b[0;32mIn[5], line 24\u001b[0m\n\u001b[1;32m     21\u001b[0m group_idxs \u001b[38;5;241m=\u001b[39m [np\u001b[38;5;241m.\u001b[39marange(\u001b[38;5;241m2\u001b[39m\u001b[38;5;241m*\u001b[39m\u001b[38;5;241m*\u001b[39mn)]\n\u001b[1;32m     22\u001b[0m operator_groups \u001b[38;5;241m=\u001b[39m [all_pauli_xs(n)]\n\u001b[0;32m---> 24\u001b[0m tableaus, pauli_idxs \u001b[38;5;241m=\u001b[39m \u001b[43mclifford_transform_multiple_groups_to_zs\u001b[49m\u001b[43m(\u001b[49m\u001b[43moperator_groups\u001b[49m\u001b[43m,\u001b[49m\u001b[43m \u001b[49m\u001b[43mgroup_idxs\u001b[49m\u001b[43m,\u001b[49m\u001b[43m \u001b[49m\u001b[43mn\u001b[49m\u001b[43m)\u001b[49m\n\u001b[1;32m     25\u001b[0m \u001b[38;5;28mprint\u001b[39m(pauli_idxs)\n\u001b[1;32m     26\u001b[0m fillings\u001b[38;5;241m.\u001b[39mappend(np\u001b[38;5;241m.\u001b[39mmean([\u001b[38;5;28mlen\u001b[39m(idx) \u001b[38;5;28;01mfor\u001b[39;00m idx \u001b[38;5;129;01min\u001b[39;00m pauli_idxs]) \u001b[38;5;241m/\u001b[39m n)\n",
      "File \u001b[0;32m~/quantum/LCU_parallel/src/preprocessing/calc_clifford_transforms.py:32\u001b[0m, in \u001b[0;36mclifford_transform_multiple_groups_to_zs\u001b[0;34m(operator_groups, list_group_idxs, m_qubits)\u001b[0m\n\u001b[1;32m     30\u001b[0m \u001b[38;5;28;01mfor\u001b[39;00m i, operator_group \u001b[38;5;129;01min\u001b[39;00m \u001b[38;5;28menumerate\u001b[39m(operator_groups):\n\u001b[1;32m     31\u001b[0m     group_idxs \u001b[38;5;241m=\u001b[39m list_group_idxs[i]\n\u001b[0;32m---> 32\u001b[0m     tabs, pauli_idxs \u001b[38;5;241m=\u001b[39m \u001b[43mclifford_transform_group_to_zs\u001b[49m\u001b[43m(\u001b[49m\n\u001b[1;32m     33\u001b[0m \u001b[43m        \u001b[49m\u001b[43moperator_group\u001b[49m\u001b[43m,\u001b[49m\u001b[43m \u001b[49m\u001b[43mgroup_idxs\u001b[49m\u001b[43m,\u001b[49m\u001b[43m \u001b[49m\u001b[43mm_qubits\u001b[49m\n\u001b[1;32m     34\u001b[0m \u001b[43m    \u001b[49m\u001b[43m)\u001b[49m\n\u001b[1;32m     35\u001b[0m     tableaus \u001b[38;5;241m+\u001b[39m\u001b[38;5;241m=\u001b[39m tabs\n\u001b[1;32m     36\u001b[0m     group_sizes \u001b[38;5;241m+\u001b[39m\u001b[38;5;241m=\u001b[39m pauli_idxs\n",
      "File \u001b[0;32m~/quantum/LCU_parallel/src/preprocessing/calc_clifford_transforms.py:8\u001b[0m, in \u001b[0;36mclifford_transform_group_to_zs\u001b[0;34m(operator_group, group_idxs, m_qubits)\u001b[0m\n\u001b[1;32m      4\u001b[0m \u001b[38;5;28;01mdef\u001b[39;00m \u001b[38;5;21mclifford_transform_group_to_zs\u001b[39m(operator_group, group_idxs, m_qubits):\n\u001b[1;32m      5\u001b[0m \u001b[38;5;250m    \u001b[39m\u001b[38;5;124;03m\"\"\"Takes a commuting groups of oeprators and calculate the clifford transformation a stim.Tableau object\u001b[39;00m\n\u001b[1;32m      6\u001b[0m \u001b[38;5;124;03m    that take those Paulis and transform them to Z operators on m_qubits\"\"\"\u001b[39;00m\n\u001b[0;32m----> 8\u001b[0m     groups, pauli_idxs \u001b[38;5;241m=\u001b[39m \u001b[43mgreedy_search\u001b[49m\u001b[43m(\u001b[49m\n\u001b[1;32m      9\u001b[0m \u001b[43m        \u001b[49m\u001b[43moperator_group\u001b[49m\u001b[43m,\u001b[49m\u001b[43m \u001b[49m\u001b[43mgroup_idxs\u001b[49m\u001b[43m,\u001b[49m\u001b[43m \u001b[49m\u001b[43mcheck_pauli_linear_independence\u001b[49m\u001b[43m,\u001b[49m\u001b[43m \u001b[49m\u001b[43mm_qubits\u001b[49m\n\u001b[1;32m     10\u001b[0m \u001b[43m    \u001b[49m\u001b[43m)\u001b[49m\n\u001b[1;32m     12\u001b[0m     tableaus \u001b[38;5;241m=\u001b[39m []\n\u001b[1;32m     13\u001b[0m     \u001b[38;5;28;01mfor\u001b[39;00m group \u001b[38;5;129;01min\u001b[39;00m groups:\n",
      "File \u001b[0;32m~/quantum/LCU_parallel/src/preprocessing/calc_clifford_transforms.py:52\u001b[0m, in \u001b[0;36mgreedy_search\u001b[0;34m(operators, group_idxs, condition, m_qubits)\u001b[0m\n\u001b[1;32m     49\u001b[0m i \u001b[38;5;241m=\u001b[39m \u001b[38;5;241m0\u001b[39m\n\u001b[1;32m     51\u001b[0m \u001b[38;5;28;01mwhile\u001b[39;00m i \u001b[38;5;241m<\u001b[39m \u001b[38;5;28mlen\u001b[39m(remaining_operators):\n\u001b[0;32m---> 52\u001b[0m     \u001b[38;5;28;01mif\u001b[39;00m \u001b[43mcondition\u001b[49m\u001b[43m(\u001b[49m\u001b[43mcurrent_group\u001b[49m\u001b[43m \u001b[49m\u001b[38;5;241;43m+\u001b[39;49m\u001b[43m \u001b[49m\u001b[43m[\u001b[49m\u001b[43mremaining_operators\u001b[49m\u001b[43m[\u001b[49m\u001b[43mi\u001b[49m\u001b[43m]\u001b[49m\u001b[43m]\u001b[49m\u001b[43m)\u001b[49m:\n\u001b[1;32m     53\u001b[0m         current_group\u001b[38;5;241m.\u001b[39mappend(remaining_operators\u001b[38;5;241m.\u001b[39mpop(i))\n\u001b[1;32m     54\u001b[0m         current_idxs\u001b[38;5;241m.\u001b[39mappend(remaining_idxs\u001b[38;5;241m.\u001b[39mpop(i))\n",
      "File \u001b[0;32m~/quantum/LCU_parallel/src/preprocessing/calc_clifford_transforms.py:72\u001b[0m, in \u001b[0;36mcheck_pauli_linear_independence\u001b[0;34m(pauli_list)\u001b[0m\n\u001b[1;32m     67\u001b[0m \u001b[38;5;250m\u001b[39m\u001b[38;5;124;03m\"\"\"Takes a list of stim.PauliString objects and checks if they are linearly independent by attempting to call stim.Tableau.from_stabilizers on them and returning\u001b[39;00m\n\u001b[1;32m     68\u001b[0m \u001b[38;5;124;03mfalse if it raises an exception\u001b[39;00m\n\u001b[1;32m     69\u001b[0m \u001b[38;5;124;03mDoing it this way because doing this with stim is probably faster than any python implementation\u001b[39;00m\n\u001b[1;32m     70\u001b[0m \u001b[38;5;124;03m\"\"\"\u001b[39;00m\n\u001b[1;32m     71\u001b[0m \u001b[38;5;28;01mtry\u001b[39;00m:\n\u001b[0;32m---> 72\u001b[0m     \u001b[43mstim\u001b[49m\u001b[38;5;241;43m.\u001b[39;49m\u001b[43mTableau\u001b[49m\u001b[38;5;241;43m.\u001b[39;49m\u001b[43mfrom_stabilizers\u001b[49m\u001b[43m(\u001b[49m\n\u001b[1;32m     73\u001b[0m \u001b[43m        \u001b[49m\u001b[43mpauli_list\u001b[49m\u001b[43m,\u001b[49m\u001b[43m \u001b[49m\u001b[43mallow_underconstrained\u001b[49m\u001b[38;5;241;43m=\u001b[39;49m\u001b[38;5;28;43;01mTrue\u001b[39;49;00m\u001b[43m,\u001b[49m\u001b[43m \u001b[49m\u001b[43mallow_redundant\u001b[49m\u001b[38;5;241;43m=\u001b[39;49m\u001b[38;5;28;43;01mFalse\u001b[39;49;00m\n\u001b[1;32m     74\u001b[0m \u001b[43m    \u001b[49m\u001b[43m)\u001b[49m\n\u001b[1;32m     75\u001b[0m     \u001b[38;5;28;01mreturn\u001b[39;00m \u001b[38;5;28;01mTrue\u001b[39;00m\n\u001b[1;32m     76\u001b[0m \u001b[38;5;28;01mexcept\u001b[39;00m \u001b[38;5;167;01mValueError\u001b[39;00m \u001b[38;5;28;01mas\u001b[39;00m e:\n\u001b[1;32m     77\u001b[0m     \u001b[38;5;66;03m# should probably make sure that the error is not the anticommuting value error\u001b[39;00m\n",
      "\u001b[0;31mKeyboardInterrupt\u001b[0m: "
     ]
    }
   ],
   "source": [
    "import itertools\n",
    "def random_pauli_xs(n, num):\n",
    "    vecs = np.random.choice([0, 1], size=(num, n))\n",
    "    qops = [of.QubitOperator(' '.join([f'X{i}' for i in range(n) if vec[i]])) for vec in vecs]\n",
    "    return qops\n",
    "\n",
    "def all_pauli_xs(n):\n",
    "    binary_arrays = list(itertools.product([0, 1], repeat=n))\n",
    "    paulistrings = []\n",
    "    for j, vec in enumerate(binary_arrays):\n",
    "        ps = stim.PauliString(n)\n",
    "        for i in range(n):\n",
    "            if vec[i]:\n",
    "                ps[i] = 1\n",
    "        paulistrings.append(ps)\n",
    "    return paulistrings\n",
    "\n",
    "ns = list(range(5,15))\n",
    "fillings = []\n",
    "for n in ns:\n",
    "    group_idxs = [np.arange(2**n)]\n",
    "    operator_groups = [all_pauli_xs(n)]\n",
    "\n",
    "    tableaus, pauli_idxs = clifford_transform_multiple_groups_to_zs(operator_groups, group_idxs, n)\n",
    "    print(pauli_idxs)\n",
    "    fillings.append(np.mean([len(idx) for idx in pauli_idxs]) / n)\n",
    "\n",
    "plt.plot(ns, fillings)\n"
   ]
  },
  {
   "cell_type": "code",
   "execution_count": null,
   "metadata": {},
   "outputs": [
    {
     "data": {
      "text/plain": [
       "Text(0, 0.5, 'filling')"
      ]
     },
     "execution_count": 28,
     "metadata": {},
     "output_type": "execute_result"
    },
    {
     "data": {
      "image/png": "[encoded data removed]",
      "text/plain": [
       "<Figure size 640x480 with 1 Axes>"
      ]
     },
     "metadata": {},
     "output_type": "display_data"
    }
   ],
   "source": [
    "plt.plot(ns[3:], fillings[3:])\n",
    "plt.xlabel(\"n\")\n",
    "plt.ylabel(\"filling\")"
   ]
  },
  {
   "cell_type": "code",
   "execution_count": null,
   "metadata": {},
   "outputs": [],
   "source": [
    "import pandas as pd\n",
    "\n",
    "data = {'ns': ns, 'fillings': fillings}\n",
    "df = pd.DataFrame(data)\n",
    "df.to_csv('data.csv', index=False)\n"
   ]
  },
  {
   "cell_type": "code",
   "execution_count": null,
   "metadata": {},
   "outputs": [],
   "source": [
    "%%scalene\n",
    "# also get some filling factors for hamiltonians generated by openfermion\n",
    "# need a list of molecules to test with differing number of qubits\n",
    "from openfermion.chem import geometry_from_pubchem\n",
    "molecule_names = [\"molecular hydrogen\", \"lithium hydride\", \"water\", \"ammonia\", \"methane\", \"oxygen\", \"molecular nitrogen\", \"ethane\", \"disodium\", \n",
    "                  # \"XVOFZWCCFLVFRR-UHFFFAOYSA-N\" # CrO oxochromium\n",
    "                  ]\n",
    "molecule_names = [\"methane\"]\n",
    "geometries = [geometry_from_pubchem(name) for name in molecule_names]\n",
    "moleculeData = []\n",
    "for i, geometry in enumerate(geometries):\n",
    "    basis = \"sto-3g\"\n",
    "    molecule = of.MolecularData(geometry, basis, 1)\n",
    "    mol = run_pyscf(molecule)\n",
    "    moleculeData.append((mol.n_qubits, mol, molecule_names[i], basis))\n",
    "# for i, geometry in enumerate(geometries[:-3]):\n",
    "#     basis = \"6-31g\"\n",
    "#     molecule = of.MolecularData(geometry, basis, 1)\n",
    "#     mol = run_pyscf(molecule)\n",
    "#     moleculeData.append((mol.n_qubits, mol, molecule_names[i], basis))\n",
    "\n",
    "hamiltonianData = []\n",
    "for md in moleculeData:\n",
    "    print(md[2], md[3])\n",
    "    ham = of.transforms.jordan_wigner(of.transforms.get_fermion_operator(md[1].get_molecular_hamiltonian()))\n",
    "    print(len(ham.terms))\n",
    "    hamiltonianData.append((md[0], len(ham.terms) ,  ham, md[2], md[3]))\n",
    "hamiltonianData = sorted(hamiltonianData, key=lambda x: x[1])\n",
    "\n",
    "hamiltonians = [hd[2] for hd in hamiltonianData]\n",
    "ns = [hd[0] for hd in hamiltonianData]\n",
    "fillings = []\n",
    "for i, hamiltonian in enumerate(hamiltonians):\n",
    "    n = ns[i]\n",
    "    print(n, len(hamiltonian.terms))\n",
    "    operator_groups, group_idxs = commuting_groups(hamiltonian, n)\n",
    "    print(\"calculated operator groups\")\n",
    "    tableaus, pauli_idxs = clifford_transform_multiple_groups_to_zs(operator_groups, group_idxs, n)\n",
    "    fillings.append(np.mean([len(idx) for idx in pauli_idxs]) / n)"
   ]
  },
  {
   "cell_type": "code",
   "execution_count": 3,
   "metadata": {},
   "outputs": [
    {
     "data": {
      "text/html": [
       "<div>\n",
       "<style scoped>\n",
       "    .dataframe tbody tr th:only-of-type {\n",
       "        vertical-align: middle;\n",
       "    }\n",
       "\n",
       "    .dataframe tbody tr th {\n",
       "        vertical-align: top;\n",
       "    }\n",
       "\n",
       "    .dataframe thead th {\n",
       "        text-align: right;\n",
       "    }\n",
       "</style>\n",
       "<table border=\"1\" class=\"dataframe\">\n",
       "  <thead>\n",
       "    <tr style=\"text-align: right;\">\n",
       "      <th></th>\n",
       "      <th>n_qubits</th>\n",
       "      <th>n_terms</th>\n",
       "      <th>filling</th>\n",
       "      <th>name</th>\n",
       "      <th>basis</th>\n",
       "    </tr>\n",
       "  </thead>\n",
       "  <tbody>\n",
       "    <tr>\n",
       "      <th>0</th>\n",
       "      <td>4</td>\n",
       "      <td>15</td>\n",
       "      <td>0.625000</td>\n",
       "      <td>molecular hydrogen</td>\n",
       "      <td>sto-3g</td>\n",
       "    </tr>\n",
       "    <tr>\n",
       "      <th>1</th>\n",
       "      <td>8</td>\n",
       "      <td>185</td>\n",
       "      <td>0.642361</td>\n",
       "      <td>molecular hydrogen</td>\n",
       "      <td>6-31g</td>\n",
       "    </tr>\n",
       "    <tr>\n",
       "      <th>2</th>\n",
       "      <td>12</td>\n",
       "      <td>631</td>\n",
       "      <td>0.473724</td>\n",
       "      <td>lithium hydride</td>\n",
       "      <td>sto-3g</td>\n",
       "    </tr>\n",
       "    <tr>\n",
       "      <th>3</th>\n",
       "      <td>14</td>\n",
       "      <td>1390</td>\n",
       "      <td>0.491513</td>\n",
       "      <td>water</td>\n",
       "      <td>sto-3g</td>\n",
       "    </tr>\n",
       "    <tr>\n",
       "      <th>4</th>\n",
       "      <td>20</td>\n",
       "      <td>2239</td>\n",
       "      <td>0.478419</td>\n",
       "      <td>oxygen</td>\n",
       "      <td>sto-3g</td>\n",
       "    </tr>\n",
       "    <tr>\n",
       "      <th>5</th>\n",
       "      <td>20</td>\n",
       "      <td>2951</td>\n",
       "      <td>0.528853</td>\n",
       "      <td>molecular nitrogen</td>\n",
       "      <td>sto-3g</td>\n",
       "    </tr>\n",
       "    <tr>\n",
       "      <th>6</th>\n",
       "      <td>16</td>\n",
       "      <td>4929</td>\n",
       "      <td>0.572607</td>\n",
       "      <td>ammonia</td>\n",
       "      <td>sto-3g</td>\n",
       "    </tr>\n",
       "    <tr>\n",
       "      <th>7</th>\n",
       "      <td>18</td>\n",
       "      <td>8480</td>\n",
       "      <td>0.571737</td>\n",
       "      <td>methane</td>\n",
       "      <td>sto-3g</td>\n",
       "    </tr>\n",
       "    <tr>\n",
       "      <th>8</th>\n",
       "      <td>22</td>\n",
       "      <td>8750</td>\n",
       "      <td>0.526791</td>\n",
       "      <td>lithium hydride</td>\n",
       "      <td>6-31g</td>\n",
       "    </tr>\n",
       "    <tr>\n",
       "      <th>9</th>\n",
       "      <td>26</td>\n",
       "      <td>13884</td>\n",
       "      <td>0.499065</td>\n",
       "      <td>water</td>\n",
       "      <td>6-31g</td>\n",
       "    </tr>\n",
       "    <tr>\n",
       "      <th>10</th>\n",
       "      <td>36</td>\n",
       "      <td>22543</td>\n",
       "      <td>0.477646</td>\n",
       "      <td>oxygen</td>\n",
       "      <td>6-31g</td>\n",
       "    </tr>\n",
       "    <tr>\n",
       "      <th>11</th>\n",
       "      <td>36</td>\n",
       "      <td>34655</td>\n",
       "      <td>0.527184</td>\n",
       "      <td>disodium</td>\n",
       "      <td>sto-3g</td>\n",
       "    </tr>\n",
       "    <tr>\n",
       "      <th>12</th>\n",
       "      <td>36</td>\n",
       "      <td>34655</td>\n",
       "      <td>0.524885</td>\n",
       "      <td>molecular nitrogen</td>\n",
       "      <td>6-31g</td>\n",
       "    </tr>\n",
       "    <tr>\n",
       "      <th>13</th>\n",
       "      <td>32</td>\n",
       "      <td>44881</td>\n",
       "      <td>0.568978</td>\n",
       "      <td>ethane</td>\n",
       "      <td>sto-3g</td>\n",
       "    </tr>\n",
       "  </tbody>\n",
       "</table>\n",
       "</div>"
      ],
      "text/plain": [
       "    n_qubits  n_terms   filling                name   basis\n",
       "0          4       15  0.625000  molecular hydrogen  sto-3g\n",
       "1          8      185  0.642361  molecular hydrogen   6-31g\n",
       "2         12      631  0.473724     lithium hydride  sto-3g\n",
       "3         14     1390  0.491513               water  sto-3g\n",
       "4         20     2239  0.478419              oxygen  sto-3g\n",
       "5         20     2951  0.528853  molecular nitrogen  sto-3g\n",
       "6         16     4929  0.572607             ammonia  sto-3g\n",
       "7         18     8480  0.571737             methane  sto-3g\n",
       "8         22     8750  0.526791     lithium hydride   6-31g\n",
       "9         26    13884  0.499065               water   6-31g\n",
       "10        36    22543  0.477646              oxygen   6-31g\n",
       "11        36    34655  0.527184            disodium  sto-3g\n",
       "12        36    34655  0.524885  molecular nitrogen   6-31g\n",
       "13        32    44881  0.568978              ethane  sto-3g"
      ]
     },
     "execution_count": 3,
     "metadata": {},
     "output_type": "execute_result"
    }
   ],
   "source": [
    "# read moleculefillingdata.csv\n",
    "import pandas as pd\n",
    "df = pd.read_csv('data/moleculefillingdata.csv', skipinitialspace=True)\n",
    "df"
   ]
  },
  {
   "cell_type": "code",
   "execution_count": 13,
   "metadata": {},
   "outputs": [
    {
     "name": "stdout",
     "output_type": "stream",
     "text": [
      "['molecular hydrogen', 'lithium hydride', 'ammonia', 'molecular nitrogen', 'disodium', 'oxygen', 'methane', 'water', 'ethane']\n"
     ]
    },
    {
     "data": {
      "image/png": "[encoded data removed]",
      "text/plain": [
       "<Figure size 640x480 with 1 Axes>"
      ]
     },
     "metadata": {},
     "output_type": "display_data"
    }
   ],
   "source": [
    "# plot n_qubits vs the filling in the dataframe\n",
    "fig, ax = plt.subplots()\n",
    "# generate a unique color for each name in df[\"name\"]\n",
    "cmap = plt.cm.jet\n",
    "set_names = list(set(df[\"name\"]))\n",
    "names_to_colors = {set_name: cmap(i/len(set_names)) for i, set_name in enumerate(set_names)}\n",
    "plot_colors = [names_to_colors[name] for name in df[\"name\"]]\n",
    "# generate a symbol for each basis in df[\"basis\"]\n",
    "set_basis = list(set(df[\"basis\"]))\n",
    "basis_to_symbol = {set_basis[i]: ['o', 'x', '+', 's', 'd'][i] for i in range(len(set_basis))}\n",
    "plot_symbols = [basis_to_symbol[basis] for basis in df[\"basis\"]]\n",
    "# call scatter once for each marker type\n",
    "for basis, symbol in basis_to_symbol.items():\n",
    "    mask = df[\"basis\"] == basis\n",
    "    plot_colors = [names_to_colors[name] for name in df[mask][\"name\"]]\n",
    "    ax.scatter(df[mask]['n_qubits'], df[mask]['n_qubits']*df[mask]['filling'], marker=symbol, c=plot_colors)\n",
    "# this is when using usual fanout scheme on the ancilla register\n",
    "\n",
    "name_to_formula = {\n",
    "    'methane': '$CH_4$',\n",
    "    'water': '$H_2 O$',\n",
    "    'molecular hydrogen': '$H_2$',\n",
    "    'disodium': '$Na_2$',\n",
    "    'lithium hydride': 'LiH',\n",
    "    'oxygen': '$O_2$',\n",
    "    'ethane': '$C_2H_6$',\n",
    "    'molecular nitrogen': '$N_2$',\n",
    "    'ammonia': '$NH_3$'\n",
    "}\n",
    "\n",
    "# make a legend that matches the colors to the names\n",
    "print(set_names)\n",
    "formula_set_names = []\n",
    "legend_elements = [plt.Line2D([0], [0], marker='o', color='w', label=name_to_formula[name], markerfacecolor=names_to_colors[name], markersize=10) for name in set_names]\n",
    "legend_elements.append(plt.Line2D([0], [0], marker='o', color='w', label=\"sto-3g\", markerfacecolor='grey', markersize=10))\n",
    "legend_elements.append(plt.Line2D([0], [0], marker='x', color='w', label=\"6-31g\", markeredgecolor='grey', markersize=10))\n",
    "ax.legend(handles=legend_elements, loc='lower right')\n",
    "ax.set_xlabel(\"n qubits\")\n",
    "ax.set_ylabel(\"T depth reduction factor\")\n",
    "fig.savefig(\"molecule_t_depth_reduction.pdf\", format=\"pdf\")\n"
   ]
  }
 ],
 "metadata": {
  "kernelspec": {
   "display_name": "qsharp-env",
   "language": "python",
   "name": "python3"
  },
  "language_info": {
   "codemirror_mode": {
    "name": "ipython",
    "version": 3
   },
   "file_extension": ".py",
   "mimetype": "text/x-python",
   "name": "python",
   "nbconvert_exporter": "python",
   "pygments_lexer": "ipython3",
   "version": "3.10.13"
  }
 },
 "nbformat": 4,
 "nbformat_minor": 2
}
