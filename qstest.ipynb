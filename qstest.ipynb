{
 "cells": [
  {
   "cell_type": "code",
   "execution_count": 6,
   "metadata": {},
   "outputs": [],
   "source": [
    "import qsharp"
   ]
  },
  {
   "cell_type": "code",
   "execution_count": 7,
   "metadata": {
    "vscode": {
     "languageId": "qsharp"
    }
   },
   "outputs": [],
   "source": [
    "%%qsharp\n",
    "\n",
    "open Microsoft.Quantum.Intrinsic;\n",
    "\n",
    "operation SayHello(name : String) : Unit {\n",
    "    Message($\"Hello, {name}!\");\n",
    "}\n"
   ]
  },
  {
   "cell_type": "code",
   "execution_count": 8,
   "metadata": {},
   "outputs": [
    {
     "name": "stdout",
     "output_type": "stream",
     "text": [
      "Hello, quantum world!\n",
      "()\n"
     ]
    }
   ],
   "source": [
    "print(SayHello.simulate(name=\"quantum world\"))"
   ]
  },
  {
   "cell_type": "code",
   "execution_count": 9,
   "metadata": {
    "vscode": {
     "languageId": "qsharp"
    }
   },
   "outputs": [],
   "source": [
    "%%qsharp\n",
    "\n",
    "open Microsoft.Quantum.Canon;\n",
    "open Microsoft.Quantum.Intrinsic;\n",
    "open Microsoft.Quantum.Measurement;\n",
    "open Microsoft.Quantum.Math;\n",
    "open Microsoft.Quantum.Convert;\n",
    "\n",
    "operation SampleQuantumRandomNumberGenerator() : Result {\n",
    "    // Allocate a qubit        \n",
    "    use q = Qubit();  \n",
    "    // Put the qubit to superposition\n",
    "    // It now has a 50% chance of being measured 0 or 1  \n",
    "    H(q);      \n",
    "    // Measure the qubit value            \n",
    "    return MResetZ(q);           \n",
    "}\n",
    "\n",
    "operation SampleRandomNumberInRange(max : Int) : Int {\n",
    "    mutable output = 0; \n",
    "    repeat {\n",
    "        mutable bits = []; \n",
    "        for idxBit in 1..BitSizeI(max) {\n",
    "            set bits += [SampleQuantumRandomNumberGenerator()]; \n",
    "        }\n",
    "        set output = ResultArrayAsInt(bits);\n",
    "    } until (output <= max);\n",
    "    return output;\n",
    "}"
   ]
  },
  {
   "cell_type": "code",
   "execution_count": 10,
   "metadata": {},
   "outputs": [
    {
     "data": {
      "text/plain": [
       "3"
      ]
     },
     "execution_count": 10,
     "metadata": {},
     "output_type": "execute_result"
    }
   ],
   "source": [
    "SampleRandomNumberInRange.simulate(max=10)"
   ]
  }
 ],
 "metadata": {
  "kernelspec": {
   "display_name": "qsharp-env",
   "language": "python",
   "name": "python3"
  },
  "language_info": {
   "codemirror_mode": {
    "name": "ipython",
    "version": 3
   },
   "file_extension": ".py",
   "mimetype": "text/x-python",
   "name": "python",
   "nbconvert_exporter": "python",
   "pygments_lexer": "ipython3",
   "version": "3.10.13"
  }
 },
 "nbformat": 4,
 "nbformat_minor": 2
}
